{
 "cells": [
  {
   "cell_type": "code",
   "execution_count": 167,
   "id": "2f87c01d-8cc5-4954-8d3d-23ad9d7427a8",
   "metadata": {},
   "outputs": [
    {
     "name": "stdout",
     "output_type": "stream",
     "text": [
      "Requirement already satisfied: polars in /Users/dossatayev/.pyenv/versions/3.11.8/lib/python3.11/site-packages (1.22.0)\n",
      "\n",
      "\u001b[1m[\u001b[0m\u001b[34;49mnotice\u001b[0m\u001b[1;39;49m]\u001b[0m\u001b[39;49m A new release of pip is available: \u001b[0m\u001b[31;49m24.3.1\u001b[0m\u001b[39;49m -> \u001b[0m\u001b[32;49m25.0.1\u001b[0m\n",
      "\u001b[1m[\u001b[0m\u001b[34;49mnotice\u001b[0m\u001b[1;39;49m]\u001b[0m\u001b[39;49m To update, run: \u001b[0m\u001b[32;49mpip install --upgrade pip\u001b[0m\n"
     ]
    }
   ],
   "source": [
    "!pip install polars"
   ]
  },
  {
   "cell_type": "code",
   "execution_count": 74,
   "id": "2ec18762-7598-48da-bff2-261e746df28d",
   "metadata": {},
   "outputs": [
    {
     "data": {
      "text/plain": [
       "polars.config.Config"
      ]
     },
     "execution_count": 74,
     "metadata": {},
     "output_type": "execute_result"
    }
   ],
   "source": [
    "import polars as pl\n",
    "pl.Config.set_tbl_rows(100)\n",
    "\n"
   ]
  },
  {
   "cell_type": "markdown",
   "id": "fe91b126-54a5-4fc8-83dd-d553a6e60180",
   "metadata": {},
   "source": [
    "# Check the data"
   ]
  },
  {
   "cell_type": "code",
   "execution_count": 6,
   "id": "30b1c22c-4b07-4047-85a0-9b01fa634a72",
   "metadata": {},
   "outputs": [
    {
     "data": {
      "text/html": [
       "<div><style>\n",
       ".dataframe > thead > tr,\n",
       ".dataframe > tbody > tr {\n",
       "  text-align: right;\n",
       "  white-space: pre-wrap;\n",
       "}\n",
       "</style>\n",
       "<small>shape: (10_602_976, 4)</small><table border=\"1\" class=\"dataframe\"><thead><tr><th>timestamp</th><th>bid</th><th>ask</th><th>provider_id</th></tr><tr><td>datetime[μs]</td><td>f64</td><td>f64</td><td>str</td></tr></thead><tbody><tr><td>2025-01-01 23:00:00.116069</td><td>2620.15</td><td>2626.41</td><td>&quot;2&quot;</td></tr><tr><td>2025-01-01 23:00:00.411987</td><td>2622.76</td><td>2625.98</td><td>&quot;2&quot;</td></tr><tr><td>2025-01-01 23:00:00.432473</td><td>2623.21</td><td>2625.83</td><td>&quot;2&quot;</td></tr><tr><td>2025-01-01 23:00:00.452675</td><td>2623.21</td><td>2625.68</td><td>&quot;2&quot;</td></tr><tr><td>2025-01-01 23:00:00.473511</td><td>2623.22</td><td>2625.64</td><td>&quot;2&quot;</td></tr><tr><td>&hellip;</td><td>&hellip;</td><td>&hellip;</td><td>&hellip;</td></tr><tr><td>2025-02-03 13:19:59.762306</td><td>2810.03</td><td>2810.34</td><td>&quot;2&quot;</td></tr><tr><td>2025-02-03 13:19:59.782558</td><td>2810.03</td><td>2810.29</td><td>&quot;2&quot;</td></tr><tr><td>2025-02-03 13:19:59.802576</td><td>2810.02</td><td>2810.29</td><td>&quot;2&quot;</td></tr><tr><td>2025-02-03 13:19:59.857634</td><td>2810.02</td><td>2810.25</td><td>&quot;2&quot;</td></tr><tr><td>2025-02-03 13:19:59.982927</td><td>2810.08</td><td>2810.25</td><td>&quot;2&quot;</td></tr></tbody></table></div>"
      ],
      "text/plain": [
       "shape: (10_602_976, 4)\n",
       "┌────────────────────────────┬─────────┬─────────┬─────────────┐\n",
       "│ timestamp                  ┆ bid     ┆ ask     ┆ provider_id │\n",
       "│ ---                        ┆ ---     ┆ ---     ┆ ---         │\n",
       "│ datetime[μs]               ┆ f64     ┆ f64     ┆ str         │\n",
       "╞════════════════════════════╪═════════╪═════════╪═════════════╡\n",
       "│ 2025-01-01 23:00:00.116069 ┆ 2620.15 ┆ 2626.41 ┆ 2           │\n",
       "│ 2025-01-01 23:00:00.411987 ┆ 2622.76 ┆ 2625.98 ┆ 2           │\n",
       "│ 2025-01-01 23:00:00.432473 ┆ 2623.21 ┆ 2625.83 ┆ 2           │\n",
       "│ 2025-01-01 23:00:00.452675 ┆ 2623.21 ┆ 2625.68 ┆ 2           │\n",
       "│ 2025-01-01 23:00:00.473511 ┆ 2623.22 ┆ 2625.64 ┆ 2           │\n",
       "│ …                          ┆ …       ┆ …       ┆ …           │\n",
       "│ 2025-02-03 13:19:59.762306 ┆ 2810.03 ┆ 2810.34 ┆ 2           │\n",
       "│ 2025-02-03 13:19:59.782558 ┆ 2810.03 ┆ 2810.29 ┆ 2           │\n",
       "│ 2025-02-03 13:19:59.802576 ┆ 2810.02 ┆ 2810.29 ┆ 2           │\n",
       "│ 2025-02-03 13:19:59.857634 ┆ 2810.02 ┆ 2810.25 ┆ 2           │\n",
       "│ 2025-02-03 13:19:59.982927 ┆ 2810.08 ┆ 2810.25 ┆ 2           │\n",
       "└────────────────────────────┴─────────┴─────────┴─────────────┘"
      ]
     },
     "execution_count": 6,
     "metadata": {},
     "output_type": "execute_result"
    }
   ],
   "source": [
    "pl.read_parquet('2.parquet')"
   ]
  },
  {
   "cell_type": "markdown",
   "id": "feb0e3ba-3702-4eb2-9efa-9061174f05d2",
   "metadata": {},
   "source": [
    "# Data processing"
   ]
  },
  {
   "cell_type": "markdown",
   "id": "fda8485a-765a-4033-b00b-bdfde4d99e4c",
   "metadata": {},
   "source": [
    "## Union data"
   ]
  },
  {
   "cell_type": "code",
   "execution_count": 81,
   "id": "f89f1e6b-eca5-4141-b31c-113b6f698b5f",
   "metadata": {},
   "outputs": [],
   "source": [
    "df1 = pl.read_parquet(\"0.parquet\")\n",
    "df2 = pl.read_parquet(\"1.parquet\")\n",
    "df3 = pl.read_parquet(\"2.parquet\")\n",
    "\n",
    "merged_df = (\n",
    "    pl.concat([df1, df2, df3])\n",
    "    .with_columns([\n",
    "        ((pl.col(\"bid\") + pl.col(\"ask\")) / 2).alias(\"mid_price\"),\n",
    "        (pl.col(\"ask\") - pl.col(\"bid\")).alias(\"spread\"),\n",
    "    ])\n",
    ")"
   ]
  },
  {
   "cell_type": "markdown",
   "id": "eec46000-e5cf-48d7-a837-1e485fe6be16",
   "metadata": {},
   "source": [
    "## Get histogram of spreads"
   ]
  },
  {
   "cell_type": "code",
   "execution_count": 53,
   "id": "0248378c-1209-4a85-b9d1-eebe6147468d",
   "metadata": {},
   "outputs": [],
   "source": [
    "histogram_df = pl.concat(\n",
    "    [\n",
    "        (\n",
    "            df\n",
    "            .select(\"spread\")\n",
    "            .to_series()\n",
    "            .hist(bin_count = 20)\n",
    "            .with_columns([\n",
    "                pl.lit(str(provider_id[0])).alias(\"provider\"),\n",
    "                (pl.col(\"count\") / df.shape[0]).alias(\"share_of_total_count\")\n",
    "            ])\n",
    "        )\n",
    "        for provider_id, df in merged_df.group_by(\"provider_id\", maintain_order=True)\n",
    "    ]\n",
    ")"
   ]
  },
  {
   "cell_type": "code",
   "execution_count": 59,
   "id": "46eeb846-482e-48bd-81d4-438171bb1ba5",
   "metadata": {},
   "outputs": [
    {
     "data": {
      "text/html": [
       "<div><style>\n",
       ".dataframe > thead > tr,\n",
       ".dataframe > tbody > tr {\n",
       "  text-align: right;\n",
       "  white-space: pre-wrap;\n",
       "}\n",
       "</style>\n",
       "<small>shape: (4, 5)</small><table border=\"1\" class=\"dataframe\"><thead><tr><th>breakpoint</th><th>category</th><th>count</th><th>provider</th><th>share_of_total_count</th></tr><tr><td>f64</td><td>cat</td><td>u32</td><td>str</td><td>f64</td></tr></thead><tbody><tr><td>0.25</td><td>&quot;(-0.005, 0.25]&quot;</td><td>18964360</td><td>&quot;0&quot;</td><td>0.91432</td></tr><tr><td>0.5</td><td>&quot;(0.25, 0.5]&quot;</td><td>1370310</td><td>&quot;0&quot;</td><td>0.066066</td></tr><tr><td>6.27</td><td>&quot;(-275.911, 6.27]&quot;</td><td>22581824</td><td>&quot;1&quot;</td><td>0.999862</td></tr><tr><td>1.539</td><td>&quot;(-0.03078, 1.539]&quot;</td><td>10585704</td><td>&quot;2&quot;</td><td>0.998371</td></tr></tbody></table></div>"
      ],
      "text/plain": [
       "shape: (4, 5)\n",
       "┌────────────┬───────────────────┬──────────┬──────────┬──────────────────────┐\n",
       "│ breakpoint ┆ category          ┆ count    ┆ provider ┆ share_of_total_count │\n",
       "│ ---        ┆ ---               ┆ ---      ┆ ---      ┆ ---                  │\n",
       "│ f64        ┆ cat               ┆ u32      ┆ str      ┆ f64                  │\n",
       "╞════════════╪═══════════════════╪══════════╪══════════╪══════════════════════╡\n",
       "│ 0.25       ┆ (-0.005, 0.25]    ┆ 18964360 ┆ 0        ┆ 0.91432              │\n",
       "│ 0.5        ┆ (0.25, 0.5]       ┆ 1370310  ┆ 0        ┆ 0.066066             │\n",
       "│ 6.27       ┆ (-275.911, 6.27]  ┆ 22581824 ┆ 1        ┆ 0.999862             │\n",
       "│ 1.539      ┆ (-0.03078, 1.539] ┆ 10585704 ┆ 2        ┆ 0.998371             │\n",
       "└────────────┴───────────────────┴──────────┴──────────┴──────────────────────┘"
      ]
     },
     "execution_count": 59,
     "metadata": {},
     "output_type": "execute_result"
    }
   ],
   "source": [
    "histogram_df.filter(pl.col(\"share_of_total_count\")>0.01)"
   ]
  },
  {
   "cell_type": "markdown",
   "id": "62d60004-21ce-483d-a808-213f96347016",
   "metadata": {},
   "source": [
    "### Analysis\n",
    "- As per result of this analysis the best source - **provider 0**. The most of the data has spread of -0.005 to 0.5.\n",
    "- Second place - **provider 2**. Most of the spreads are distributed from -0.03 to 1.539.\n",
    "- Better to avoid - **provider 1**. Huge spreads, unpredictable behavior."
   ]
  },
  {
   "cell_type": "markdown",
   "id": "bfaffc79-6a0d-477c-be9c-69141db1cfa5",
   "metadata": {},
   "source": [
    "## Get Data Latency"
   ]
  },
  {
   "cell_type": "code",
   "execution_count": 78,
   "id": "2eefa6ac-0a27-4f19-ba80-475a9b79beda",
   "metadata": {},
   "outputs": [
    {
     "data": {
      "text/html": [
       "<div><style>\n",
       ".dataframe > thead > tr,\n",
       ".dataframe > tbody > tr {\n",
       "  text-align: right;\n",
       "  white-space: pre-wrap;\n",
       "}\n",
       "</style>\n",
       "<small>shape: (3, 6)</small><table border=\"1\" class=\"dataframe\"><thead><tr><th>provider_id</th><th>avg_latency</th><th>median_latency</th><th>p90_latency</th><th>p95_latency</th><th>p99_latency</th></tr><tr><td>str</td><td>duration[ms]</td><td>duration[ms]</td><td>duration[ms]</td><td>duration[ms]</td><td>duration[ms]</td></tr></thead><tbody><tr><td>&quot;0&quot;</td><td>135ms</td><td>9ms</td><td>167ms</td><td>385ms</td><td>1s 388ms</td></tr><tr><td>&quot;2&quot;</td><td>265ms</td><td>40ms</td><td>413ms</td><td>777ms</td><td>2s 36ms</td></tr><tr><td>&quot;1&quot;</td><td>124ms</td><td>5ms</td><td>156ms</td><td>366ms</td><td>1s 335ms</td></tr></tbody></table></div>"
      ],
      "text/plain": [
       "shape: (3, 6)\n",
       "┌─────────────┬──────────────┬────────────────┬──────────────┬──────────────┬──────────────┐\n",
       "│ provider_id ┆ avg_latency  ┆ median_latency ┆ p90_latency  ┆ p95_latency  ┆ p99_latency  │\n",
       "│ ---         ┆ ---          ┆ ---            ┆ ---          ┆ ---          ┆ ---          │\n",
       "│ str         ┆ duration[ms] ┆ duration[ms]   ┆ duration[ms] ┆ duration[ms] ┆ duration[ms] │\n",
       "╞═════════════╪══════════════╪════════════════╪══════════════╪══════════════╪══════════════╡\n",
       "│ 0           ┆ 135ms        ┆ 9ms            ┆ 167ms        ┆ 385ms        ┆ 1s 388ms     │\n",
       "│ 2           ┆ 265ms        ┆ 40ms           ┆ 413ms        ┆ 777ms        ┆ 2s 36ms      │\n",
       "│ 1           ┆ 124ms        ┆ 5ms            ┆ 156ms        ┆ 366ms        ┆ 1s 335ms     │\n",
       "└─────────────┴──────────────┴────────────────┴──────────────┴──────────────┴──────────────┘"
      ]
     },
     "execution_count": 78,
     "metadata": {},
     "output_type": "execute_result"
    }
   ],
   "source": [
    "(\n",
    "    merged_df\n",
    "    .sort(\"timestamp\")\n",
    "    .with_columns([\n",
    "        pl.col(\"timestamp\").diff().over(\"provider_id\").cast(pl.Duration(\"ms\")).alias(\"prev_tick_time_diff\")\n",
    "    ])\n",
    "    .group_by(\"provider_id\")\n",
    "    .agg([\n",
    "        pl.col(\"prev_tick_time_diff\").mean().alias(\"avg_latency\"),\n",
    "        pl.col(\"prev_tick_time_diff\").quantile(0.5).alias(\"median_latency\"),\n",
    "        pl.col(\"prev_tick_time_diff\").quantile(0.9).alias(\"p90_latency\"),\n",
    "        pl.col(\"prev_tick_time_diff\").quantile(0.95).alias(\"p95_latency\"),\n",
    "        pl.col(\"prev_tick_time_diff\").quantile(0.99).alias(\"p99_latency\"),\n",
    "    ])\n",
    ")"
   ]
  },
  {
   "cell_type": "markdown",
   "id": "898e15fe-41bb-400c-a08d-ab98349e17b3",
   "metadata": {},
   "source": [
    "### Analysis\n",
    "- As per result of this analysis the best source - **provider 1**. Average latency - 124ms, median - 5ms. 99 percentile - 1s 335 ms\n",
    "- Second place - **provider 0**. Almost on par with the **provider 1**, but a bit worse on 11ms in average metric, 4 ms in median metric and 53 ms in P99\n",
    "- Last and the slowest one - **provider 2**. Almost twice slower in average metric - 265 vs 124 compared with **provider 1**, 4.5x worse than **provider 0** and 8x worse than **provider 1**. P99 is also the worst one."
   ]
  },
  {
   "cell_type": "markdown",
   "id": "30ce618c-daa1-4645-9685-fbcbb2e7dc3e",
   "metadata": {},
   "source": [
    "## Get price volatility"
   ]
  },
  {
   "cell_type": "code",
   "execution_count": 85,
   "id": "68da2cd1-ea1e-41d4-a107-f89c1bff76ea",
   "metadata": {},
   "outputs": [
    {
     "data": {
      "text/html": [
       "<div><style>\n",
       ".dataframe > thead > tr,\n",
       ".dataframe > tbody > tr {\n",
       "  text-align: right;\n",
       "  white-space: pre-wrap;\n",
       "}\n",
       "</style>\n",
       "<small>shape: (3, 2)</small><table border=\"1\" class=\"dataframe\"><thead><tr><th>provider_id</th><th>volatility</th></tr><tr><td>str</td><td>f64</td></tr></thead><tbody><tr><td>&quot;0&quot;</td><td>50.869021</td></tr><tr><td>&quot;1&quot;</td><td>51.856656</td></tr><tr><td>&quot;2&quot;</td><td>51.343975</td></tr></tbody></table></div>"
      ],
      "text/plain": [
       "shape: (3, 2)\n",
       "┌─────────────┬────────────┐\n",
       "│ provider_id ┆ volatility │\n",
       "│ ---         ┆ ---        │\n",
       "│ str         ┆ f64        │\n",
       "╞═════════════╪════════════╡\n",
       "│ 0           ┆ 50.869021  │\n",
       "│ 1           ┆ 51.856656  │\n",
       "│ 2           ┆ 51.343975  │\n",
       "└─────────────┴────────────┘"
      ]
     },
     "execution_count": 85,
     "metadata": {},
     "output_type": "execute_result"
    }
   ],
   "source": [
    "(\n",
    "    merged_df\n",
    "    .group_by(\"provider_id\")\n",
    "    .agg([\n",
    "        pl.col(\"mid_price\").std().alias(\"volatility\"),\n",
    "    ])\n",
    ")"
   ]
  },
  {
   "cell_type": "markdown",
   "id": "2107419c-1813-46d4-a258-7a2731ffad46",
   "metadata": {},
   "source": [
    "### Analysis\n",
    "- As per result of this analysis the best source - **provider 0**. Average standard deviation - 50.869\n",
    "- Second place - **provider 2**. 0.4749 points more than **provider 0** \n",
    "- Last and the worst one - **provider 1**."
   ]
  },
  {
   "cell_type": "markdown",
   "id": "43a5d3da-7e77-4e51-8009-a9dd68d97fc0",
   "metadata": {},
   "source": [
    "## Get data completeness"
   ]
  },
  {
   "cell_type": "code",
   "execution_count": 145,
   "id": "11ae9dbd-a957-460d-99be-27975f83ac56",
   "metadata": {},
   "outputs": [],
   "source": [
    "expected_rows = pl.DataFrame(pl.datetime_range(\n",
    "    merged_df[\"timestamp\"].min().replace(microsecond=0),\n",
    "    merged_df[\"timestamp\"].max().replace(microsecond=0),\n",
    "    interval=\"1s\",\n",
    "    eager=True\n",
    ").alias(\"timestamps\"))\n"
   ]
  },
  {
   "cell_type": "code",
   "execution_count": 164,
   "id": "c406e485-e681-48d4-a986-479d5cd00a6a",
   "metadata": {},
   "outputs": [
    {
     "data": {
      "text/html": [
       "<div><style>\n",
       ".dataframe > thead > tr,\n",
       ".dataframe > tbody > tr {\n",
       "  text-align: right;\n",
       "  white-space: pre-wrap;\n",
       "}\n",
       "</style>\n",
       "<small>shape: (4, 3)</small><table border=\"1\" class=\"dataframe\"><thead><tr><th>provider_id</th><th>len</th><th>share</th></tr><tr><td>str</td><td>u32</td><td>f64</td></tr></thead><tbody><tr><td>&quot;2&quot;</td><td>1491239</td><td>0.529439</td></tr><tr><td>null</td><td>1182386</td><td>0.419786</td></tr><tr><td>&quot;0&quot;</td><td>1462425</td><td>0.519209</td></tr><tr><td>&quot;1&quot;</td><td>1476359</td><td>0.524156</td></tr></tbody></table></div>"
      ],
      "text/plain": [
       "shape: (4, 3)\n",
       "┌─────────────┬─────────┬──────────┐\n",
       "│ provider_id ┆ len     ┆ share    │\n",
       "│ ---         ┆ ---     ┆ ---      │\n",
       "│ str         ┆ u32     ┆ f64      │\n",
       "╞═════════════╪═════════╪══════════╡\n",
       "│ 2           ┆ 1491239 ┆ 0.529439 │\n",
       "│ null        ┆ 1182386 ┆ 0.419786 │\n",
       "│ 0           ┆ 1462425 ┆ 0.519209 │\n",
       "│ 1           ┆ 1476359 ┆ 0.524156 │\n",
       "└─────────────┴─────────┴──────────┘"
      ]
     },
     "execution_count": 164,
     "metadata": {},
     "output_type": "execute_result"
    }
   ],
   "source": [
    "(\n",
    "    expected_rows\n",
    "    .join(\n",
    "        merged_df.select([\n",
    "            pl.col(\"timestamp\").dt.truncate(\"1s\").alias(\"timestamp\"),\n",
    "            pl.col(\"provider_id\")\n",
    "        ]).unique(), left_on = \"timestamps\", right_on = \"timestamp\", how = \"left\"\n",
    "    )\n",
    "    .group_by(\"provider_id\")\n",
    "    .len()\n",
    "    .with_columns((pl.col(\"len\")/expected_rows.height).alias(\"share\"))\n",
    ")"
   ]
  },
  {
   "cell_type": "markdown",
   "id": "7d7bdae4-4454-4175-9017-cbccc19245cc",
   "metadata": {},
   "source": [
    "### Analysis\n",
    "- As per result of this analysis the best source - **provider 2**. Share of existing records - 52.94%\n",
    "- Second place - **provider 1**. 0.53 percentage points less than **provider 2** \n",
    "- Last and the worst one - **provider 0**.\n",
    "Actually for this check, the difference is not critical, so we shouldn't consider it too much\n"
   ]
  }
 ],
 "metadata": {
  "kernelspec": {
   "display_name": "Python 3 (ipykernel)",
   "language": "python",
   "name": "python3"
  },
  "language_info": {
   "codemirror_mode": {
    "name": "ipython",
    "version": 3
   },
   "file_extension": ".py",
   "mimetype": "text/x-python",
   "name": "python",
   "nbconvert_exporter": "python",
   "pygments_lexer": "ipython3",
   "version": "3.11.8"
  }
 },
 "nbformat": 4,
 "nbformat_minor": 5
}
