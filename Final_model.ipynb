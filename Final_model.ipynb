{
 "cells": [
  {
   "cell_type": "markdown",
   "id": "69873279-6371-4331-ae89-3532bc15991d",
   "metadata": {},
   "source": [
    "# Model definition"
   ]
  },
  {
   "cell_type": "code",
   "execution_count": 2,
   "id": "e13fa5cd-0ae3-46ad-b147-60abf231c88e",
   "metadata": {},
   "outputs": [],
   "source": [
    "import polars as pl\n",
    "import numpy as np\n",
    "\n",
    "class MidPriceModel:\n",
    "    def __init__(self, spread_threshold=1.5, max_delay_ms=250, weights=[0.65, 0.15, 0.2]):\n",
    "        \"\"\"Initialize model with three price sources and filtering rules.\"\"\"\n",
    "        self.spread_threshold = spread_threshold  # Maximum allowed spread\n",
    "        self.max_delay_ms = max_delay_ms  # Maximum acceptable delay\n",
    "        self.weights = weights\n",
    "        self.prices = [None, None, None]  # Latest mid-prices for each provider\n",
    "        self.timestamps = [None, None, None]  # Timestamps of last tick for each provider\n",
    "\n",
    "    def on_tick(self, provider: int, tick) -> float:\n",
    "        \"\"\"Process incoming tick, update mid-price, and apply filtering rules.\"\"\"\n",
    "        current_time, bid, ask = tick[\"timestamp\"], tick[\"bid\"], tick[\"ask\"]\n",
    "        mid_price, spread = (bid + ask) / 2, ask - bid\n",
    "        \n",
    "        if spread > self.spread_threshold:\n",
    "            # print(f\"Ignoring provider {provider} at {current_time}: spread too high ({spread})\")\n",
    "            return None\n",
    "\n",
    "        if any((current_time - ts).total_seconds() * 1000 > self.max_delay_ms for ts in self.timestamps if ts):\n",
    "            # print(\n",
    "            #     [(current_time, ts, self.max_delay_ms, (current_time - ts).total_seconds() * 1000, (current_time - ts)) for ts in self.timestamps if ts]\n",
    "            # )\n",
    "            # print(f\"Ignoring provider {provider} at {current_time}: delayed update\")\n",
    "            # We save the state for delayed, but we don't use them to produce our final_price\n",
    "            self.prices[provider] = mid_price\n",
    "            self.timestamps[provider] = current_time\n",
    "            return None\n",
    "\n",
    "        self.prices[provider] = mid_price\n",
    "        self.timestamps[provider] = current_time\n",
    "\n",
    "        valid_prices = [p for p in self.prices if p]\n",
    "        valid_weights = [self.weights[i] for i, p in enumerate(self.prices) if p]\n",
    "\n",
    "        # Normalize weights\n",
    "        weight_sum = sum(valid_weights)\n",
    "        if weight_sum == 0:\n",
    "            return None\n",
    "\n",
    "        adjusted_weights = [w / weight_sum for w in valid_weights]\n",
    "        mid_price = np.dot(valid_prices, adjusted_weights)\n",
    "\n",
    "        return mid_price\n"
   ]
  },
  {
   "cell_type": "markdown",
   "id": "49ef5211-0ac8-4cd6-97fd-9394e082dd90",
   "metadata": {},
   "source": [
    "# Model run"
   ]
  },
  {
   "cell_type": "markdown",
   "id": "44c61a4b-6fb6-42e7-b272-44004131efec",
   "metadata": {},
   "source": [
    "## Define input"
   ]
  },
  {
   "cell_type": "code",
   "execution_count": 3,
   "id": "9ec441ba-423c-4d9f-af55-8a18195b163e",
   "metadata": {},
   "outputs": [],
   "source": [
    "df1 = pl.read_parquet(\"0.parquet\")\n",
    "df2 = pl.read_parquet(\"1.parquet\")\n",
    "df3 = pl.read_parquet(\"2.parquet\")\n",
    "\n",
    "ticks = pl.concat([df1, df2, df3]).with_columns(pl.col(\"provider_id\").str.to_integer()).sort(\"timestamp\")"
   ]
  },
  {
   "cell_type": "code",
   "execution_count": 4,
   "id": "edd55fb3-52de-4232-a6ab-7e4ebac75133",
   "metadata": {},
   "outputs": [
    {
     "data": {
      "text/html": [
       "<div><style>\n",
       ".dataframe > thead > tr,\n",
       ".dataframe > tbody > tr {\n",
       "  text-align: right;\n",
       "  white-space: pre-wrap;\n",
       "}\n",
       "</style>\n",
       "<small>shape: (53_929_401, 4)</small><table border=\"1\" class=\"dataframe\"><thead><tr><th>timestamp</th><th>bid</th><th>ask</th><th>provider_id</th></tr><tr><td>datetime[μs]</td><td>f64</td><td>f64</td><td>i64</td></tr></thead><tbody><tr><td>2025-01-01 22:55:58.201913</td><td>2581.91</td><td>2627.09</td><td>1</td></tr><tr><td>2025-01-01 22:55:58.391727</td><td>2583.85</td><td>2625.15</td><td>1</td></tr><tr><td>2025-01-01 23:00:00.003702</td><td>2580.85</td><td>2628.15</td><td>1</td></tr><tr><td>2025-01-01 23:00:00.004672</td><td>2580.85</td><td>2627.07</td><td>1</td></tr><tr><td>2025-01-01 23:00:00.004695</td><td>2581.93</td><td>2627.07</td><td>1</td></tr><tr><td>&hellip;</td><td>&hellip;</td><td>&hellip;</td><td>&hellip;</td></tr><tr><td>2025-02-03 13:19:59.875523</td><td>2810.16</td><td>2810.28</td><td>0</td></tr><tr><td>2025-02-03 13:19:59.877656</td><td>2810.16</td><td>2810.29</td><td>0</td></tr><tr><td>2025-02-03 13:19:59.946286</td><td>2810.18</td><td>2810.29</td><td>0</td></tr><tr><td>2025-02-03 13:19:59.947359</td><td>2810.18</td><td>2810.3</td><td>0</td></tr><tr><td>2025-02-03 13:19:59.982927</td><td>2810.08</td><td>2810.25</td><td>2</td></tr></tbody></table></div>"
      ],
      "text/plain": [
       "shape: (53_929_401, 4)\n",
       "┌────────────────────────────┬─────────┬─────────┬─────────────┐\n",
       "│ timestamp                  ┆ bid     ┆ ask     ┆ provider_id │\n",
       "│ ---                        ┆ ---     ┆ ---     ┆ ---         │\n",
       "│ datetime[μs]               ┆ f64     ┆ f64     ┆ i64         │\n",
       "╞════════════════════════════╪═════════╪═════════╪═════════════╡\n",
       "│ 2025-01-01 22:55:58.201913 ┆ 2581.91 ┆ 2627.09 ┆ 1           │\n",
       "│ 2025-01-01 22:55:58.391727 ┆ 2583.85 ┆ 2625.15 ┆ 1           │\n",
       "│ 2025-01-01 23:00:00.003702 ┆ 2580.85 ┆ 2628.15 ┆ 1           │\n",
       "│ 2025-01-01 23:00:00.004672 ┆ 2580.85 ┆ 2627.07 ┆ 1           │\n",
       "│ 2025-01-01 23:00:00.004695 ┆ 2581.93 ┆ 2627.07 ┆ 1           │\n",
       "│ …                          ┆ …       ┆ …       ┆ …           │\n",
       "│ 2025-02-03 13:19:59.875523 ┆ 2810.16 ┆ 2810.28 ┆ 0           │\n",
       "│ 2025-02-03 13:19:59.877656 ┆ 2810.16 ┆ 2810.29 ┆ 0           │\n",
       "│ 2025-02-03 13:19:59.946286 ┆ 2810.18 ┆ 2810.29 ┆ 0           │\n",
       "│ 2025-02-03 13:19:59.947359 ┆ 2810.18 ┆ 2810.3  ┆ 0           │\n",
       "│ 2025-02-03 13:19:59.982927 ┆ 2810.08 ┆ 2810.25 ┆ 2           │\n",
       "└────────────────────────────┴─────────┴─────────┴─────────────┘"
      ]
     },
     "execution_count": 4,
     "metadata": {},
     "output_type": "execute_result"
    }
   ],
   "source": [
    "ticks"
   ]
  },
  {
   "cell_type": "markdown",
   "id": "6d8fe612-4cd0-4995-9be4-e20bb7d8ed19",
   "metadata": {},
   "source": [
    "## Debug"
   ]
  },
  {
   "cell_type": "code",
   "execution_count": 5,
   "id": "806ad58d-7e1e-44d8-bdb4-46166003001d",
   "metadata": {},
   "outputs": [
    {
     "name": "stderr",
     "output_type": "stream",
     "text": [
      "/var/folders/3y/mnv9qgv946qdbvswklqfy_lw0000gn/T/ipykernel_42854/3620838642.py:13: DataOrientationWarning: Row orientation inferred during DataFrame construction. Explicitly specify the orientation by passing `orient=\"row\"` to silence this warning.\n",
      "  perfect_price_df = pl.DataFrame(aligned_prices, schema=[\"timestamp\", \"mid_price\"])\n"
     ]
    }
   ],
   "source": [
    "# Params based on the analysis\n",
    "model = MidPriceModel(spread_threshold=2.5, max_delay_ms=450)\n",
    "\n",
    "aligned_prices = []\n",
    "# Enumerate for testing purposes\n",
    "for i, tick in enumerate(ticks.iter_rows(named=True)):\n",
    "    if i<1000:\n",
    "        mid_price = model.on_tick(tick[\"provider_id\"], tick)\n",
    "        if mid_price:\n",
    "            aligned_prices.append((tick[\"timestamp\"], mid_price))\n",
    "    else:\n",
    "        break\n",
    "perfect_price_df = pl.DataFrame(aligned_prices, schema=[\"timestamp\", \"mid_price\"])"
   ]
  },
  {
   "cell_type": "code",
   "execution_count": 6,
   "id": "d49ab39b-fa0d-46ff-b239-15babbfa0032",
   "metadata": {},
   "outputs": [
    {
     "data": {
      "text/html": [
       "<div><style>\n",
       ".dataframe > thead > tr,\n",
       ".dataframe > tbody > tr {\n",
       "  text-align: right;\n",
       "  white-space: pre-wrap;\n",
       "}\n",
       "</style>\n",
       "<small>shape: (680, 2)</small><table border=\"1\" class=\"dataframe\"><thead><tr><th>timestamp</th><th>mid_price</th></tr><tr><td>datetime[μs]</td><td>f64</td></tr></thead><tbody><tr><td>2025-01-01 23:00:00.241136</td><td>2627.465</td></tr><tr><td>2025-01-01 23:00:00.243113</td><td>2626.925</td></tr><tr><td>2025-01-01 23:00:00.246095</td><td>2626.9575</td></tr><tr><td>2025-01-01 23:00:00.248207</td><td>2627.778125</td></tr><tr><td>2025-01-01 23:00:00.268300</td><td>2626.734063</td></tr><tr><td>&hellip;</td><td>&hellip;</td></tr><tr><td>2025-01-01 23:01:07.024406</td><td>2625.13675</td></tr><tr><td>2025-01-01 23:01:07.035637</td><td>2625.13575</td></tr><tr><td>2025-01-01 23:01:07.085176</td><td>2625.12875</td></tr><tr><td>2025-01-01 23:01:07.093769</td><td>2625.13175</td></tr><tr><td>2025-01-01 23:01:07.115361</td><td>2625.13475</td></tr></tbody></table></div>"
      ],
      "text/plain": [
       "shape: (680, 2)\n",
       "┌────────────────────────────┬─────────────┐\n",
       "│ timestamp                  ┆ mid_price   │\n",
       "│ ---                        ┆ ---         │\n",
       "│ datetime[μs]               ┆ f64         │\n",
       "╞════════════════════════════╪═════════════╡\n",
       "│ 2025-01-01 23:00:00.241136 ┆ 2627.465    │\n",
       "│ 2025-01-01 23:00:00.243113 ┆ 2626.925    │\n",
       "│ 2025-01-01 23:00:00.246095 ┆ 2626.9575   │\n",
       "│ 2025-01-01 23:00:00.248207 ┆ 2627.778125 │\n",
       "│ 2025-01-01 23:00:00.268300 ┆ 2626.734063 │\n",
       "│ …                          ┆ …           │\n",
       "│ 2025-01-01 23:01:07.024406 ┆ 2625.13675  │\n",
       "│ 2025-01-01 23:01:07.035637 ┆ 2625.13575  │\n",
       "│ 2025-01-01 23:01:07.085176 ┆ 2625.12875  │\n",
       "│ 2025-01-01 23:01:07.093769 ┆ 2625.13175  │\n",
       "│ 2025-01-01 23:01:07.115361 ┆ 2625.13475  │\n",
       "└────────────────────────────┴─────────────┘"
      ]
     },
     "execution_count": 6,
     "metadata": {},
     "output_type": "execute_result"
    }
   ],
   "source": [
    "perfect_price_df"
   ]
  },
  {
   "cell_type": "markdown",
   "id": "969dee71-1182-457c-a499-f47ca06679ee",
   "metadata": {},
   "source": [
    "## Full run"
   ]
  },
  {
   "cell_type": "code",
   "execution_count": 7,
   "id": "4ff465a2-deeb-4d01-93fe-7f89a17a9af4",
   "metadata": {},
   "outputs": [
    {
     "name": "stderr",
     "output_type": "stream",
     "text": [
      "/var/folders/3y/mnv9qgv946qdbvswklqfy_lw0000gn/T/ipykernel_42854/2450317331.py:10: DataOrientationWarning: Row orientation inferred during DataFrame construction. Explicitly specify the orientation by passing `orient=\"row\"` to silence this warning.\n",
      "  perfect_price_df = pl.DataFrame(aligned_prices, schema=[\"timestamp\", \"mid_price\"])\n"
     ]
    }
   ],
   "source": [
    "# Params based on the analysis\n",
    "model = MidPriceModel(spread_threshold=2.5, max_delay_ms=450)\n",
    "\n",
    "aligned_prices = []\n",
    "# Enumerate for testing purposes\n",
    "for tick in ticks.iter_rows(named=True):\n",
    "    mid_price = model.on_tick(tick[\"provider_id\"], tick)\n",
    "    if mid_price:\n",
    "        aligned_prices.append((tick[\"timestamp\"], mid_price))\n",
    "perfect_price_df = pl.DataFrame(aligned_prices, schema=[\"timestamp\", \"mid_price\"])\n"
   ]
  },
  {
   "cell_type": "code",
   "execution_count": 8,
   "id": "b2d1162d-7988-405c-b0c4-e7bdbaae4057",
   "metadata": {},
   "outputs": [
    {
     "data": {
      "text/html": [
       "<div><style>\n",
       ".dataframe > thead > tr,\n",
       ".dataframe > tbody > tr {\n",
       "  text-align: right;\n",
       "  white-space: pre-wrap;\n",
       "}\n",
       "</style>\n",
       "<small>shape: (46_318_431, 2)</small><table border=\"1\" class=\"dataframe\"><thead><tr><th>timestamp</th><th>mid_price</th></tr><tr><td>datetime[μs]</td><td>f64</td></tr></thead><tbody><tr><td>2025-01-01 23:00:00.241136</td><td>2627.465</td></tr><tr><td>2025-01-01 23:00:00.243113</td><td>2626.925</td></tr><tr><td>2025-01-01 23:00:00.246095</td><td>2626.9575</td></tr><tr><td>2025-01-01 23:00:00.248207</td><td>2627.778125</td></tr><tr><td>2025-01-01 23:00:00.268300</td><td>2626.734063</td></tr><tr><td>&hellip;</td><td>&hellip;</td></tr><tr><td>2025-02-03 13:19:59.875523</td><td>2810.19925</td></tr><tr><td>2025-02-03 13:19:59.877656</td><td>2810.2025</td></tr><tr><td>2025-02-03 13:19:59.946286</td><td>2810.209</td></tr><tr><td>2025-02-03 13:19:59.947359</td><td>2810.21225</td></tr><tr><td>2025-02-03 13:19:59.982927</td><td>2810.21825</td></tr></tbody></table></div>"
      ],
      "text/plain": [
       "shape: (46_318_431, 2)\n",
       "┌────────────────────────────┬─────────────┐\n",
       "│ timestamp                  ┆ mid_price   │\n",
       "│ ---                        ┆ ---         │\n",
       "│ datetime[μs]               ┆ f64         │\n",
       "╞════════════════════════════╪═════════════╡\n",
       "│ 2025-01-01 23:00:00.241136 ┆ 2627.465    │\n",
       "│ 2025-01-01 23:00:00.243113 ┆ 2626.925    │\n",
       "│ 2025-01-01 23:00:00.246095 ┆ 2626.9575   │\n",
       "│ 2025-01-01 23:00:00.248207 ┆ 2627.778125 │\n",
       "│ 2025-01-01 23:00:00.268300 ┆ 2626.734063 │\n",
       "│ …                          ┆ …           │\n",
       "│ 2025-02-03 13:19:59.875523 ┆ 2810.19925  │\n",
       "│ 2025-02-03 13:19:59.877656 ┆ 2810.2025   │\n",
       "│ 2025-02-03 13:19:59.946286 ┆ 2810.209    │\n",
       "│ 2025-02-03 13:19:59.947359 ┆ 2810.21225  │\n",
       "│ 2025-02-03 13:19:59.982927 ┆ 2810.21825  │\n",
       "└────────────────────────────┴─────────────┘"
      ]
     },
     "execution_count": 8,
     "metadata": {},
     "output_type": "execute_result"
    }
   ],
   "source": [
    "perfect_price_df"
   ]
  }
 ],
 "metadata": {
  "kernelspec": {
   "display_name": "Python 3 (ipykernel)",
   "language": "python",
   "name": "python3"
  },
  "language_info": {
   "codemirror_mode": {
    "name": "ipython",
    "version": 3
   },
   "file_extension": ".py",
   "mimetype": "text/x-python",
   "name": "python",
   "nbconvert_exporter": "python",
   "pygments_lexer": "ipython3",
   "version": "3.11.8"
  }
 },
 "nbformat": 4,
 "nbformat_minor": 5
}
